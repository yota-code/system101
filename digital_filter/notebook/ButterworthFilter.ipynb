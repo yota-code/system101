{
 "cells": [
  {
   "cell_type": "code",
   "execution_count": null,
   "id": "94ccd574",
   "metadata": {},
   "outputs": [],
   "source": [
    "%matplotlib notebook\n",
    "\n",
    "# https://en.wikipedia.org/wiki/Bessel_filter\n",
    "# https://www.recordingblogs.com/wiki/bessel-filter\n",
    "# https://www.recordingblogs.com/wiki/bilinear-transformation\n",
    "\n",
    "import math\n",
    "import sympy\n",
    "\n",
    "import numpy as np\n",
    "import matplotlib.pyplot as plt\n",
    "\n",
    "s, z, Z = sympy.symbols('s z Z')\n",
    "\n",
    "w0, wb, fc, fs = sympy.symbols('omega_0 omega_b F_c F_s')\n",
    "# F_s sampling frequency\n",
    "# F_c cutting frequency"
   ]
  },
  {
   "cell_type": "markdown",
   "id": "e9212a73",
   "metadata": {},
   "source": [
    "### Second order butterworth with bilinear transform"
   ]
  },
  {
   "cell_type": "code",
   "execution_count": null,
   "id": "6090ace9",
   "metadata": {},
   "outputs": [],
   "source": [
    "a0, a1, a2, b0, b1, b2 = sympy.symbols('a_0 a_1 a_2 b_0 b_1 b_2')"
   ]
  },
  {
   "cell_type": "code",
   "execution_count": null,
   "id": "9dcb24c6",
   "metadata": {},
   "outputs": [],
   "source": [
    "coef = {\n",
    "    'a_0' : w0**2,\n",
    "    'a_1' : 2*w0**2,\n",
    "    'a_2' : w0**2,\n",
    "    'b_0' : 4 - 4*w0*sympy.cos(3*sympy.pi/4) + w0**2,\n",
    "    'b_1' : 2*w0**2 - 8,\n",
    "    'b_2' : 4 + 4*w0*sympy.cos(3*sympy.pi/4) + w0**2,\n",
    "}"
   ]
  },
  {
   "cell_type": "code",
   "execution_count": null,
   "id": "37a5b617",
   "metadata": {},
   "outputs": [],
   "source": [
    "H_low_2 = (a0 + a1*Z + a2*Z**2) / (b0 + b1*Z + b2*Z**2)\n",
    "n, d = H_low_2.as_numer_denom()\n",
    "H_low_2 = (n / b0).expand() / (d / b0).expand()\n",
    "#H_low_2 = ((a0 + a1*Z + a2*Z**2) / b0) * (b0 / (b0 + b1*Z + b2*Z**2))\n",
    "\n",
    "H_low_2"
   ]
  },
  {
   "cell_type": "code",
   "execution_count": null,
   "id": "49751522",
   "metadata": {},
   "outputs": [],
   "source": [
    "cutoff = {\"omega_0\" : 1.0}#2 * math.tan(0.6 / 2)"
   ]
  },
  {
   "cell_type": "code",
   "execution_count": null,
   "id": "555eaf42",
   "metadata": {},
   "outputs": [],
   "source": [
    "for c in coef :\n",
    "    print(f\"{c} = {float((coef[c] / coef['b_0']).subs(coef).subs(cutoff))}\")"
   ]
  },
  {
   "cell_type": "code",
   "execution_count": null,
   "id": "f39d15c5",
   "metadata": {},
   "outputs": [],
   "source": [
    "class IIR_direct_form_I_2nd_order() :\n",
    "    \n",
    "    order = 2\n",
    "    \n",
    "    def __init__(self, a0, a1, a2, b0, b1, b2, x_ini=0.0, y_ini=0.0) :\n",
    "        self.x = [x_ini,] * (self.order + 1)\n",
    "        self.y = [y_ini,] * (self.order + 1)\n",
    "        \n",
    "        self.a0, self.a1, self.a2, self.b1, self.b2 = a0 / b0, a1 / b0, a2 / b0, b1 / b0, b2 / b0\n",
    "        \n",
    "        print(f\"{self.a0} z0 + {self.a1} z1 + {self.a2} z2\")\n",
    "        print(f\"1 + {self.b1} z1 + {self.b2} z2\")\n",
    "\n",
    "    def unwrap_360(self, x0, x1) :\n",
    "        d = x0 - x1\n",
    "        w = math.copysign(360.0, d) if abs(d) > 180.0 else 0.0\n",
    "        \n",
    "        return w\n",
    "        \n",
    "    def run(self, x0) :\n",
    "        a0, a1, a2, b1, b2 = self.a0, self.a1, self.a2, self.b1, self.b2\n",
    "        \n",
    "        self.x = [x0 % 360.0,] + self.x[:-1]\n",
    "        \n",
    "        x1, x2 = self.x[:-1]\n",
    "        y1, y2 = self.y[:-1]\n",
    "                \n",
    "        y = a0 * x0 + a1 * x1 + a2 * x2 - (\n",
    "            b1 * y1 + b2 * y1\n",
    "        )\n",
    "        \n",
    "        y0 = a0 * x0 + (1-a0) * y1\n",
    "        \n",
    "        self.y = [y0,] + self.y[:-1]\n",
    "        \n",
    "        print(x0, self.x, self.y, y0)\n",
    "                \n",
    "        return self.y[0]\n",
    "    \n",
    "    def run_wrapped_360(self, x0) :\n",
    "        a0, a1, a2, b1, b2 = self.a0, self.a1, self.a2, self.b1, self.b2\n",
    "        \n",
    "        # for old elements, an unwrap is applied first\n",
    "        w = self.unwrap_360(x0, self.x[0])\n",
    "        self.x[1:] = [w + x for x in self.x[:-1]]\n",
    "        self.y[1:] = [w + y for y in self.y[:-1]]\n",
    "        \n",
    "        self.x[0] = x0 % 360.0\n",
    "        \n",
    "        x0, x1, x2 = self.x\n",
    "        _, y1, y2 = self.y\n",
    "        \n",
    "        y0 = a0 * x0 + a1 * x1 + a2 * x2 - (\n",
    "            b1 * y1 + b2 * y1\n",
    "        )\n",
    "        \n",
    "        y0 = (a0 * x0 + (1-a0) * y1)\n",
    "        \n",
    "        self.y[0] = y0\n",
    "                        \n",
    "        return self.y[0] % 360.0"
   ]
  },
  {
   "cell_type": "code",
   "execution_count": null,
   "id": "583e9323",
   "metadata": {},
   "outputs": [],
   "source": [
    "BW = IIR_direct_form_I_2nd_order(1/7, 0.0, 0.0, 1.0, 0.0, 0.0, x_ini=30.0, y_ini=30.0)\n",
    "\n",
    "x_arr = np.array([30.0,] * 5 + [360.0 - 30.0,] * 20 + [30.0,] * 20)\n",
    "\n",
    "y_arr = np.array([BW.run_wrapped_360(x) for x in x_arr])\n",
    "\n",
    "plt.plot(x_arr)\n",
    "plt.plot(y_arr, '+-')\n",
    "plt.grid()\n",
    "plt.show()"
   ]
  },
  {
   "cell_type": "code",
   "execution_count": null,
   "id": "0613c4b9",
   "metadata": {},
   "outputs": [],
   "source": []
  },
  {
   "cell_type": "code",
   "execution_count": null,
   "id": "ae22ec8f",
   "metadata": {},
   "outputs": [],
   "source": []
  },
  {
   "cell_type": "code",
   "execution_count": null,
   "id": "35baf91c",
   "metadata": {},
   "outputs": [],
   "source": []
  },
  {
   "cell_type": "code",
   "execution_count": null,
   "id": "6e8bab44",
   "metadata": {},
   "outputs": [],
   "source": []
  },
  {
   "cell_type": "code",
   "execution_count": null,
   "id": "096a3e08",
   "metadata": {},
   "outputs": [],
   "source": [
    "BW = IIR_direct_form_I_2nd_order(0.666, 0.0, 0.0, 1.0, 0.0, 0.0)\n",
    "\n",
    "x_arr = np.array([30.0,] * 5 + [-30.0,] * 10 + [30.0,] * 10)\n",
    "y_arr = np.array([BW.run(x) for x in x_arr])\n",
    "\n",
    "plt.plot(x_arr)\n",
    "plt.plot(y_arr, '+-')\n",
    "plt.grid()\n",
    "plt.show()"
   ]
  },
  {
   "cell_type": "code",
   "execution_count": null,
   "id": "9729c3c8",
   "metadata": {},
   "outputs": [],
   "source": []
  },
  {
   "cell_type": "code",
   "execution_count": null,
   "id": "68262032",
   "metadata": {},
   "outputs": [],
   "source": []
  },
  {
   "cell_type": "code",
   "execution_count": null,
   "id": "f2ac8394",
   "metadata": {},
   "outputs": [],
   "source": []
  },
  {
   "cell_type": "code",
   "execution_count": null,
   "id": "416d0965",
   "metadata": {},
   "outputs": [],
   "source": []
  }
 ],
 "metadata": {
  "kernelspec": {
   "display_name": "Python 3 (ipykernel)",
   "language": "python",
   "name": "python3"
  },
  "language_info": {
   "codemirror_mode": {
    "name": "ipython",
    "version": 3
   },
   "file_extension": ".py",
   "mimetype": "text/x-python",
   "name": "python",
   "nbconvert_exporter": "python",
   "pygments_lexer": "ipython3",
   "version": "3.9.13"
  }
 },
 "nbformat": 4,
 "nbformat_minor": 5
}
