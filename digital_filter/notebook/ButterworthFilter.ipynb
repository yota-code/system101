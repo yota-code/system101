{
 "cells": [
  {
   "cell_type": "code",
   "execution_count": null,
   "id": "356accb4",
   "metadata": {},
   "outputs": [],
   "source": [
    "%matplotlib notebook\n",
    "\n",
    "# https://en.wikipedia.org/wiki/Bessel_filter\n",
    "# https://www.recordingblogs.com/wiki/bessel-filter\n",
    "# https://www.recordingblogs.com/wiki/bilinear-transformation\n",
    "# https://tttapa.github.io/Pages/Mathematics/Systems-and-Control-Theory/Digital-filters/Discretization/Discretization-of-a-fourth-order-Butterworth-filter.html\n",
    "\n",
    "import math\n",
    "import operator\n",
    "import sympy\n",
    "\n",
    "import scipy.signal as sgn\n",
    "\n",
    "import numpy as np\n",
    "import matplotlib.pyplot as plt\n",
    "\n",
    "s, p, g, z, Z = sympy.symbols('s p gamma z Z')\n",
    "\n",
    "# p = s / omega_c\n",
    "\n",
    "w0, wb, fc, fs = sympy.symbols('omega_0 omega_b F_c F_s')\n",
    "# F_s sampling frequency\n",
    "# F_c cutting frequency"
   ]
  },
  {
   "cell_type": "markdown",
   "id": "96d7e2f4",
   "metadata": {},
   "source": [
    "# Order butterworth low pass with bilinear transform\n",
    "## Butterworth polynomials"
   ]
  },
  {
   "cell_type": "code",
   "execution_count": null,
   "id": "44db91b3",
   "metadata": {},
   "outputs": [],
   "source": [
    "def ButterworthPolynomial(n:int) :\n",
    "    assert(1 <= n)\n",
    "    u = [\n",
    "        (p**2 - 2*p*sympy.cos(sympy.pi*(2*k+n-1)/(2*n)) + 1) for k in range(1, n // 2 + 1)\n",
    "    ]\n",
    "    if n % 2 != 0 : # polynom is odd\n",
    "        u.append(p + 1)\n",
    "    return sympy.prod(u)"
   ]
  },
  {
   "cell_type": "code",
   "execution_count": null,
   "id": "c24e8ab7",
   "metadata": {},
   "outputs": [],
   "source": [
    "ButterworthPolynomial(4)"
   ]
  },
  {
   "cell_type": "code",
   "execution_count": null,
   "id": "0118da0f",
   "metadata": {},
   "outputs": [],
   "source": [
    "sympy.N(ButterworthPolynomial(4))"
   ]
  },
  {
   "cell_type": "markdown",
   "id": "337b74fe",
   "metadata": {},
   "source": [
    "## 4th order"
   ]
  },
  {
   "cell_type": "code",
   "execution_count": null,
   "id": "2323ee78",
   "metadata": {},
   "outputs": [],
   "source": [
    "ButterworthPolynomial(4).expand().collect(p)"
   ]
  },
  {
   "cell_type": "code",
   "execution_count": null,
   "id": "d875468c",
   "metadata": {},
   "outputs": [],
   "source": [
    "str(ButterworthPolynomial(4).expand().collect(p))"
   ]
  },
  {
   "cell_type": "markdown",
   "id": "8e0e43ab",
   "metadata": {},
   "source": [
    "Pour simplifier cette expression on pose $alpha$ et $beta$"
   ]
  },
  {
   "cell_type": "code",
   "execution_count": null,
   "id": "f08df495",
   "metadata": {},
   "outputs": [],
   "source": [
    "alpha, beta = sympy.symbols('alpha beta')\n",
    "\n",
    "subs_alpha_beta = {\n",
    "    'alpha': 2*sympy.sqrt((2 - sympy.sqrt(2))/4),\n",
    "    'beta': 2*sympy.sqrt((2 + sympy.sqrt(2))/4),\n",
    "}\n",
    "\n",
    "B4a = p**4 + p**3*(alpha + beta) + p**2*(alpha*beta + 2) + p*(alpha + beta) + 1\n",
    "B4a"
   ]
  },
  {
   "cell_type": "code",
   "execution_count": null,
   "id": "258423db",
   "metadata": {},
   "outputs": [],
   "source": [
    "B4a.subs(subs_alpha_beta)"
   ]
  },
  {
   "cell_type": "code",
   "execution_count": null,
   "id": "18320e0c",
   "metadata": {},
   "outputs": [],
   "source": [
    "B4d = B4a.subs({'p' : g * (z - 1) / (z + 1)}).together()\n",
    "B4d"
   ]
  },
  {
   "cell_type": "code",
   "execution_count": null,
   "id": "93599d6b",
   "metadata": {},
   "outputs": [],
   "source": [
    "H4d = (1 / B4d)\n",
    "H4d"
   ]
  },
  {
   "cell_type": "code",
   "execution_count": null,
   "id": "adb28674",
   "metadata": {},
   "outputs": [],
   "source": [
    "H4d_num, H4d_den = H4d.as_numer_denom()"
   ]
  },
  {
   "cell_type": "code",
   "execution_count": null,
   "id": "943218c1",
   "metadata": {},
   "outputs": [],
   "source": [
    "sympy.Poly(H4d_num.expand().collect(z), z).all_coeffs()"
   ]
  },
  {
   "cell_type": "code",
   "execution_count": null,
   "id": "6652b4d9",
   "metadata": {},
   "outputs": [],
   "source": [
    "sympy.Poly(H4d_den.expand().collect(z), z).all_coeffs()"
   ]
  },
  {
   "cell_type": "markdown",
   "id": "93122851",
   "metadata": {},
   "source": [
    "## 2nd order"
   ]
  },
  {
   "cell_type": "code",
   "execution_count": null,
   "id": "24d38ea4",
   "metadata": {},
   "outputs": [],
   "source": [
    "B2a = ButterworthPolynomial(2).expand().collect(p)"
   ]
  },
  {
   "cell_type": "code",
   "execution_count": null,
   "id": "a62b4376",
   "metadata": {},
   "outputs": [],
   "source": [
    "B2d = B2a.subs({'p' : g * (z - 1) / (z + 1)}).together()\n",
    "B2d"
   ]
  },
  {
   "cell_type": "code",
   "execution_count": null,
   "id": "0426ab37",
   "metadata": {},
   "outputs": [],
   "source": [
    "H2d = (1 / B2d)\n",
    "H2d"
   ]
  },
  {
   "cell_type": "code",
   "execution_count": null,
   "id": "6cbb8dfd",
   "metadata": {},
   "outputs": [],
   "source": [
    "H2d_num, H2d_den = H2d.as_numer_denom()"
   ]
  },
  {
   "cell_type": "code",
   "execution_count": null,
   "id": "b887a73f",
   "metadata": {},
   "outputs": [],
   "source": [
    "sympy.Poly(H2d_num.expand().collect(z), z).all_coeffs()"
   ]
  },
  {
   "cell_type": "code",
   "execution_count": null,
   "id": "63827b8a",
   "metadata": {},
   "outputs": [],
   "source": [
    "sympy.Poly(H2d_den.expand().collect(z), z).all_coeffs()"
   ]
  },
  {
   "cell_type": "code",
   "execution_count": null,
   "id": "243fa2c9",
   "metadata": {},
   "outputs": [],
   "source": [
    "str(sympy.Poly(H2d_den.expand().collect(z), z).all_coeffs())"
   ]
  },
  {
   "cell_type": "markdown",
   "id": "88f41b8d",
   "metadata": {},
   "source": [
    "## Direct form I (2nd order) with wrap"
   ]
  },
  {
   "cell_type": "code",
   "execution_count": null,
   "id": "a0b969a3",
   "metadata": {},
   "outputs": [],
   "source": [
    "def Butterworth_LowPass_2nd(fc:float, fs=1000) :\n",
    "    wcd = math.tau * fc / fs\n",
    "    assert(0.0 <= wcd < math.pi)\n",
    "    g = 1 / math.tan(wcd / 2)\n",
    "    \n",
    "    b = [1, 2, 1]\n",
    "    a = [g**2 + math.sqrt(2)*g + 1, 2 - 2*g**2, g**2 - math.sqrt(2)*g + 1]\n",
    "    \n",
    "    return [i/a[0] for i in b], [i/a[0] for i in a]"
   ]
  },
  {
   "cell_type": "code",
   "execution_count": null,
   "id": "3f3eb041",
   "metadata": {},
   "outputs": [],
   "source": [
    "BW_num, BW_den = Butterworth_LowPass_2nd(45.0, 360.0)\n",
    "BW_num"
   ]
  },
  {
   "cell_type": "code",
   "execution_count": null,
   "id": "58e22d90",
   "metadata": {},
   "outputs": [],
   "source": [
    "BW_den"
   ]
  },
  {
   "cell_type": "code",
   "execution_count": null,
   "id": "ff74ebc9",
   "metadata": {},
   "outputs": [],
   "source": [
    "class IIR_direct_form_I_2nd_order() :\n",
    "    \n",
    "    order = 2\n",
    "    \n",
    "    def __init__(self, num, den, x_ini=0.0, y_ini=0.0) :\n",
    "        self.x = [x_ini,] * (self.order + 1)\n",
    "        self.y = [y_ini,] * (self.order + 1)\n",
    "        \n",
    "        self.b = num[:3]\n",
    "        self.a = den[:3]\n",
    "        \n",
    "    def unwrap_360(self, x0, x1) :\n",
    "        d = x0 - x1\n",
    "        w = math.copysign(360.0, d) if abs(d) > 180.0 else 0.0\n",
    "        return w\n",
    "        \n",
    "    def run(self, x0) :\n",
    "        \n",
    "        b0, b1, b2 = self.b\n",
    "        a0, a1, a2 = self.a\n",
    "        \n",
    "        self.x = [x0,] + self.x[:-1]\n",
    "        \n",
    "        x0, x1, x2 = self.x\n",
    "        _, y1, y2 = self.y\n",
    "                \n",
    "        y0 = b0 * x0 + b1 * x1 + b2 * x2 - (\n",
    "            a1 * y1 + a2 * y1\n",
    "        )\n",
    "        \n",
    "        # y0 = b0 * x0 + (1-b0) * y1\n",
    "        \n",
    "        self.y = [y0,] + self.y[:-1]\n",
    "                        \n",
    "        return self.y[0]\n",
    "    \n",
    "    def run_wrapped_360(self, x0) :\n",
    "        \n",
    "        b0, b1, b2 = self.b\n",
    "        a0, a1, a2 = self.a\n",
    "        \n",
    "        # for old elements, an unwrap is applied first\n",
    "        w = self.unwrap_360(x0, self.x[0])\n",
    "        self.x[1:] = [w + x for x in self.x[:-1]]\n",
    "        self.y[1:] = [w + y for y in self.y[:-1]]\n",
    "        \n",
    "        self.x[0] = x0 % 360.0\n",
    "        \n",
    "        x0, x1, x2 = self.x\n",
    "        _, y1, y2 = self.y\n",
    "        \n",
    "        y0 = b0 * x0 + b1 * x1 + b2 * x2 - (\n",
    "            a1 * y1 + a2 * y1\n",
    "        )\n",
    "        \n",
    "        # y0 = (b0 * x0 + (1-b0) * y1)\n",
    "        \n",
    "        self.y[0] = y0\n",
    "                        \n",
    "        return self.y[0] % 360.0"
   ]
  },
  {
   "cell_type": "code",
   "execution_count": null,
   "id": "98dc752a",
   "metadata": {},
   "outputs": [],
   "source": [
    "BW = IIR_direct_form_I_2nd_order(BW_num, BW_den, x_ini=30.0, y_ini=30.0)\n",
    "\n",
    "x_arr = np.array([30.0,] * 5 + [360.0 - 30.0,] * 20 + [30.0,] * 20)\n",
    "\n",
    "y_arr = np.array([BW.run_wrapped_360(x) for x in x_arr])\n",
    "\n",
    "plt.figure()\n",
    "plt.plot(x_arr)\n",
    "plt.plot(y_arr, '+-')\n",
    "plt.grid()\n",
    "plt.show()"
   ]
  },
  {
   "cell_type": "code",
   "execution_count": null,
   "id": "bc488f70",
   "metadata": {},
   "outputs": [],
   "source": [
    "BW = IIR_direct_form_I_2nd_order(BW_num, BW_den)\n",
    "\n",
    "x_arr = np.array([30.0,] * 5 + [-30.0,] * 10 + [30.0,] * 10)\n",
    "y_arr = np.array([BW.run(x) for x in x_arr])\n",
    "\n",
    "plt.figure()\n",
    "plt.plot(x_arr)\n",
    "plt.plot(y_arr, '+-')\n",
    "plt.grid()\n",
    "plt.show()"
   ]
  },
  {
   "cell_type": "code",
   "execution_count": null,
   "id": "7bf5c2cd",
   "metadata": {},
   "outputs": [],
   "source": []
  },
  {
   "cell_type": "code",
   "execution_count": null,
   "id": "6e9a0907",
   "metadata": {},
   "outputs": [],
   "source": []
  },
  {
   "cell_type": "code",
   "execution_count": null,
   "id": "230b00c0",
   "metadata": {},
   "outputs": [],
   "source": []
  },
  {
   "cell_type": "code",
   "execution_count": null,
   "id": "b2be4d70",
   "metadata": {},
   "outputs": [],
   "source": []
  }
 ],
 "metadata": {
  "kernelspec": {
   "display_name": "Python 3 (ipykernel)",
   "language": "python",
   "name": "python3"
  },
  "language_info": {
   "codemirror_mode": {
    "name": "ipython",
    "version": 3
   },
   "file_extension": ".py",
   "mimetype": "text/x-python",
   "name": "python",
   "nbconvert_exporter": "python",
   "pygments_lexer": "ipython3",
   "version": "3.9.13"
  }
 },
 "nbformat": 4,
 "nbformat_minor": 5
}
