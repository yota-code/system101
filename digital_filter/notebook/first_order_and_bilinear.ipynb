{
 "cells": [
  {
   "cell_type": "code",
   "execution_count": null,
   "id": "08841c5a-8a1b-4f6a-9f9d-dbb7b98f2b9e",
   "metadata": {},
   "outputs": [],
   "source": [
    "# https://en.wikipedia.org/wiki/Low-pass_filter\n",
    "\n",
    "# https://controlsystemsacademy.com/\n",
    "\n",
    "%matplotlib inline\n",
    "import collections\n",
    "\n",
    "import matplotlib.pyplot as plt"
   ]
  },
  {
   "cell_type": "markdown",
   "id": "251fe5df-aa65-4a18-9ad7-bf741d59437f",
   "metadata": {},
   "source": [
    "Prenons un filtre du premier ordre de gain null, que l'on écrit en notation de laplace:\n",
    "\n",
    "$$ G(s) = \\frac{1}{1 + T_cs} $$\n",
    "\n",
    "Avec :\n",
    "\n",
    "$$ \\frac{1}{Tc} = 2 \\pi f_c = \\omega_c $$\n",
    "\n",
    "La transformée bilineaire est l'approximation au premier ordre de la definition de la transformée en $z$\n",
    "\n",
    "\\begin{align}\n",
    "z &= e^{sT} \\\\\n",
    "s &= \\frac{1}{T} \\ln(z)  \\\\\n",
    "  &= \\frac{2}{T} \\left[\\frac{z-1}{z+1} + \\frac{1}{3} \\left( \\frac{z-1}{z+1} \\right)^3  + \\frac{1}{5} \\left( \\frac{z-1}{z+1} \\right)^5  + \\frac{1}{7} \\left( \\frac{z-1}{z+1} \\right)^7 + \\cdots \\right] \\\\\n",
    "  &\\approx  \\frac{2}{T} \\frac{z - 1}{z + 1} \\\\\n",
    "  &=  \\frac{2}{T} \\frac{1 - z^{-1}}{1 + z^{-1}}\n",
    "\\end{align}"
   ]
  },
  {
   "cell_type": "code",
   "execution_count": null,
   "id": "59bc8751-adf6-428a-8970-dbf315340a77",
   "metadata": {},
   "outputs": [],
   "source": [
    "import sympy\n",
    "\n",
    "T, Tc, z1 = sympy.symbols('T T_c z^-1') # la fréquence d'échantillonnage\n",
    "s = (2 / T)*(1 - z1)/(1 + z1)\n",
    "G = 1 / (1 + Tc *s)\n",
    "G"
   ]
  },
  {
   "cell_type": "code",
   "execution_count": null,
   "id": "5cbcb081-6608-47f0-94a7-46317d35d868",
   "metadata": {},
   "outputs": [],
   "source": [
    "G.expand().cancel()"
   ]
  },
  {
   "cell_type": "code",
   "execution_count": null,
   "id": "e28bb50f-833b-4432-81bb-1b2ee21de125",
   "metadata": {},
   "outputs": [],
   "source": [
    "A = (T - 2*Tc) / (T + 2*Tc)\n",
    "B = T / (T + 2*Tc)\n",
    "H = B * ( (1 + z1) / (1 + A*z1) )\n",
    "H.expand().simplify()"
   ]
  },
  {
   "cell_type": "code",
   "execution_count": null,
   "id": "7959d6b8-e1a0-4309-9170-5679ee8dc604",
   "metadata": {},
   "outputs": [],
   "source": [
    "x, y = sympy.symbols('x y')\n",
    "Gn, Gd = sympy.fraction(G.expand().simplify())\n",
    "P0 = (y * Gd - x * Gn).expand()\n",
    "P0"
   ]
  },
  {
   "cell_type": "code",
   "execution_count": null,
   "id": "ebf970df-02f8-48ed-827b-1b7dc318df41",
   "metadata": {},
   "outputs": [],
   "source": [
    "P1 = (T*x*z1 + T*x + 2*Tc*y*z1 - T*y*z1) - (T*y+2*Tc*y)"
   ]
  },
  {
   "cell_type": "code",
   "execution_count": null,
   "id": "4709a611-8712-405b-8d65-933ef989092d",
   "metadata": {},
   "outputs": [],
   "source": [
    "P1 = (T*x*(1+z1) + (2*Tc - T)*y*z1) - ((T+2*Tc)*y)"
   ]
  },
  {
   "cell_type": "code",
   "execution_count": null,
   "id": "a66f74d4-818a-483f-90f2-109e0638d341",
   "metadata": {},
   "outputs": [],
   "source": [
    "P1 = (T*x*(1+z1) + (2*Tc - T)*y*z1) / (T+2*Tc) - y"
   ]
  },
  {
   "cell_type": "code",
   "execution_count": null,
   "id": "f6373d48-dd88-4a21-bb90-cac073ad25dc",
   "metadata": {},
   "outputs": [],
   "source": [
    "P1 = (T*x*z1 + T*x + (2*Tc - T)*y*z1) / (T+2*Tc) - y"
   ]
  },
  {
   "cell_type": "code",
   "execution_count": null,
   "id": "3ef7eccf-3dff-48e0-86ab-04552f85a265",
   "metadata": {},
   "outputs": [],
   "source": [
    "(P0 + (T+2*Tc) * P1).expand().simplify()"
   ]
  },
  {
   "cell_type": "code",
   "execution_count": null,
   "id": "073c988c-ac66-4f62-8612-e927ecd6fc66",
   "metadata": {},
   "outputs": [],
   "source": [
    "class LowPass_FirstOrder_Bilinear() :\n",
    "    def __init__(self, time_constant=10.0, period=1.0, init={'x':0.0, 'y':0.0}) :\n",
    "        self.Tc = time_constant\n",
    "        self.dt = period\n",
    "\n",
    "        self.h = collections.defaultdict(list)\n",
    "        for k, v in init.items() :\n",
    "            self.h[k].append(v)\n",
    "        \n",
    "    def run(self, x) :\n",
    "        x_prev = self.h['x'][-1]\n",
    "        y_prev = self.h['y'][-1]\n",
    "        \n",
    "        y = (self.dt*x_prev + self.dt*x + (2*self.Tc - self.dt)*y_prev) / (self.dt + 2*self.Tc)\n",
    "\n",
    "        self.h['x'].append(x)\n",
    "        self.h['y'].append(y)"
   ]
  },
  {
   "cell_type": "code",
   "execution_count": null,
   "id": "60bd93b6-2298-4d4b-b57e-51ef161e0cc5",
   "metadata": {},
   "outputs": [],
   "source": [
    "# ça c'est en fait un zero degrees (blocker) filter\n",
    "# plus de détail ici : https://controlsystemsacademy.com/0020/0020.html\n",
    "\n",
    "class LowPass_SimpleRecursive() :\n",
    "    def __init__(self, time_constant=10.0, period=1.0, init={'x':0.0, 'y':0.0}) :\n",
    "        self.Tc = time_constant\n",
    "        self.dt = period\n",
    "\n",
    "        self.k = 0.09\n",
    "\n",
    "        self.h = collections.defaultdict(list)\n",
    "        for k, v in init.items() :\n",
    "            self.h[k].append(v)\n",
    "        \n",
    "    def run(self, x) :\n",
    "        x_prev = self.h['x'][-1]\n",
    "        y_prev = self.h['y'][-1]\n",
    "        \n",
    "        y = self.k*x + (1-self.k)*y_prev\n",
    "\n",
    "        self.h['x'].append(x)\n",
    "        self.h['y'].append(y)"
   ]
  },
  {
   "cell_type": "code",
   "execution_count": null,
   "id": "5d7aea42-ee7f-4cc3-b1e2-20ea74739873",
   "metadata": {},
   "outputs": [],
   "source": [
    "x_lst = [0.0,]*8 + [1.0,]*64\n",
    "\n",
    "\n",
    "u = LowPass_FirstOrder_Bilinear()\n",
    "v = LowPass_SimpleRecursive()\n",
    "for x in x_lst :\n",
    "    u.run(x)\n",
    "    v.run(x)"
   ]
  },
  {
   "cell_type": "code",
   "execution_count": null,
   "id": "5e6713d3-ecd1-4588-b35b-c6f069fc9136",
   "metadata": {},
   "outputs": [],
   "source": [
    "plt.plot(u.h['x'])\n",
    "plt.plot(u.h['y'])\n",
    "plt.plot(v.h['y'])\n",
    "plt.grid()\n",
    "plt.show()"
   ]
  },
  {
   "cell_type": "code",
   "execution_count": null,
   "id": "14fffa90-cfcb-4fca-a06d-dc558e96a4b1",
   "metadata": {},
   "outputs": [],
   "source": []
  },
  {
   "cell_type": "code",
   "execution_count": null,
   "id": "75719d88-b7d5-4724-a96e-ba48a0ba8f2e",
   "metadata": {},
   "outputs": [],
   "source": []
  },
  {
   "cell_type": "code",
   "execution_count": null,
   "id": "da97981f-6310-4948-ac8a-46d9ccdc1e20",
   "metadata": {},
   "outputs": [],
   "source": []
  }
 ],
 "metadata": {
  "kernelspec": {
   "display_name": "Python 3 (ipykernel)",
   "language": "python",
   "name": "python3"
  },
  "language_info": {
   "codemirror_mode": {
    "name": "ipython",
    "version": 3
   },
   "file_extension": ".py",
   "mimetype": "text/x-python",
   "name": "python",
   "nbconvert_exporter": "python",
   "pygments_lexer": "ipython3",
   "version": "3.12.7"
  }
 },
 "nbformat": 4,
 "nbformat_minor": 5
}
