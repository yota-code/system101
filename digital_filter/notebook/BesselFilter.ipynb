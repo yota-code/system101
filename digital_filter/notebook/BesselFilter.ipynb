{
 "cells": [
  {
   "cell_type": "code",
   "execution_count": null,
   "id": "e387c327",
   "metadata": {},
   "outputs": [],
   "source": [
    "# https://en.wikipedia.org/wiki/Bessel_filter\n",
    "# https://www.recordingblogs.com/wiki/bessel-filter\n",
    "\n",
    "import sympy\n",
    "\n",
    "s, z = sympy.symbols('s z')\n",
    "\n",
    "wc, wd = sympy.symbols('omega_c omega_d')"
   ]
  },
  {
   "cell_type": "markdown",
   "id": "c3072c59",
   "metadata": {},
   "source": [
    "## Formula for a bessel filter\n",
    "\n",
    "The transfert function of a Bessel filter, at the order $n$ is:\n",
    "\n",
    "$$ H(s) = \\frac{B_n(0)}{B_n(P)} $$\n",
    "\n",
    "The value of $P$ set the type of filter built\n",
    "\n",
    "| $P$ | type of filter  |\n",
    "|:---:|:---|\n",
    "| $$ \\frac{s}{\\omega_c} $$ | low pass filter, with a cutoff frequency of $\\omega_c$ |\n",
    "| $$ \\frac{\\omega_c}{s} $$ | high pass filter, with a cutoff frequency of $\\omega_c$ |\n",
    "| $$ \\frac{s^2 + \\omega_c^2}{s \\omega_d} $$ | band pass filter, with a center frequency of $\\omega_c$ and $\\omega_d$ the width of the band |\n",
    "| $$ \\frac{s \\omega_d}{s^2 + \\omega_c^2} $$ | band stop filter, with a center frequency of $\\omega_c$ and $\\omega_d$ the width of the band |"
   ]
  },
  {
   "cell_type": "markdown",
   "id": "5755aaeb",
   "metadata": {},
   "source": [
    "Where the definition of the reverse Bessel polynomial of order $n$ is :\n",
    "$$ B_n(s)=\\sum_{k=0}^n a_ks^k $$\n",
    "\n",
    "and\n",
    "\n",
    "$$ a_k=\\frac{(2n-k)!}{2^{n-k}k!(n-k)!} \\quad k=0,1,\\ldots,n. $$"
   ]
  },
  {
   "cell_type": "code",
   "execution_count": null,
   "id": "009716aa",
   "metadata": {},
   "outputs": [],
   "source": [
    "def a(n, k) :\n",
    "    return sympy.factorial(2*n - k) / ( 2**(n-k) * sympy.factorial(k) * sympy.factorial(n - k) )"
   ]
  },
  {
   "cell_type": "code",
   "execution_count": null,
   "id": "0797dcc3",
   "metadata": {},
   "outputs": [],
   "source": [
    "def B(n, s) :\n",
    "    return sum(a(n, k)*(s**k) for k in range(0, n+1))"
   ]
  },
  {
   "cell_type": "code",
   "execution_count": null,
   "id": "31cc5aaa",
   "metadata": {},
   "outputs": [],
   "source": [
    "def H_bessel(n, s, filter_type=None, wc=1.0, wd=1.0) :\n",
    "    return B(n, 0) / B()"
   ]
  },
  {
   "cell_type": "code",
   "execution_count": null,
   "id": "229e33a6",
   "metadata": {},
   "outputs": [],
   "source": [
    "B(5, s / wc).subs({s: 2 * (z-1) / (z+1)}).expand()"
   ]
  },
  {
   "cell_type": "code",
   "execution_count": null,
   "id": "89c5cf6f",
   "metadata": {},
   "outputs": [],
   "source": [
    "B(5, 0)"
   ]
  },
  {
   "cell_type": "code",
   "execution_count": null,
   "id": "0b0a4d05",
   "metadata": {},
   "outputs": [],
   "source": []
  }
 ],
 "metadata": {
  "kernelspec": {
   "display_name": "Python 3",
   "language": "python",
   "name": "python3"
  },
  "language_info": {
   "codemirror_mode": {
    "name": "ipython",
    "version": 3
   },
   "file_extension": ".py",
   "mimetype": "text/x-python",
   "name": "python",
   "nbconvert_exporter": "python",
   "pygments_lexer": "ipython3",
   "version": "3.8.10"
  }
 },
 "nbformat": 4,
 "nbformat_minor": 5
}
