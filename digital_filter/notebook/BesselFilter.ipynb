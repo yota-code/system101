{
 "cells": [
  {
   "cell_type": "code",
   "execution_count": null,
   "id": "e387c327",
   "metadata": {},
   "outputs": [],
   "source": [
    "# https://en.wikipedia.org/wiki/Bessel_filter\n",
    "# https://www.recordingblogs.com/wiki/bessel-filter\n",
    "\n",
    "import sympy\n",
    "\n",
    "s, z = sympy.symbols('s z')\n",
    "\n",
    "w0, wb = sympy.symbols('omega_0 omega_b')"
   ]
  },
  {
   "cell_type": "code",
   "execution_count": null,
   "id": "898f723f",
   "metadata": {},
   "outputs": [],
   "source": [
    "def bilinear_transform(Hc) :\n",
    "    return Hc.subs({s: 2 * (z-1) / (z+1)})"
   ]
  },
  {
   "cell_type": "markdown",
   "id": "c3072c59",
   "metadata": {},
   "source": [
    "## Formula for a bessel filter\n",
    "\n",
    "The transfert function of a Bessel filter, at the order $n$ is:\n",
    "\n",
    "$$ H(s) = \\frac{B_n(0)}{B_n(P)} $$\n",
    "\n",
    "The value of $P$ set the type of filter built\n",
    "\n",
    "| $P$ | type of filter  |\n",
    "|:---:|:---|\n",
    "| $$ \\frac{s}{\\omega_c} $$ | low pass filter, with a cutoff frequency of $\\omega_c$ |\n",
    "| $$ \\frac{\\omega_c}{s} $$ | high pass filter, with a cutoff frequency of $\\omega_c$ |\n",
    "| $$ \\frac{s^2 + \\omega_c^2}{s \\omega_d} $$ | band pass filter, with a center frequency of $\\omega_c$ and $\\omega_d$ the width of the band |\n",
    "| $$ \\frac{s \\omega_d}{s^2 + \\omega_c^2} $$ | band stop filter, with a center frequency of $\\omega_c$ and $\\omega_d$ the width of the band |"
   ]
  },
  {
   "cell_type": "markdown",
   "id": "5755aaeb",
   "metadata": {},
   "source": [
    "Where the definition of the reverse Bessel polynomial of order $n$ is :\n",
    "$$ B_n(s)=\\sum_{k=0}^n a_ks^k $$\n",
    "\n",
    "and\n",
    "\n",
    "$$ a_k=\\frac{(2n-k)!}{2^{n-k}k!(n-k)!} \\quad k=0,1,\\ldots,n. $$"
   ]
  },
  {
   "cell_type": "code",
   "execution_count": null,
   "id": "009716aa",
   "metadata": {},
   "outputs": [],
   "source": [
    "def a(n, k) :\n",
    "    return sympy.factorial(2*n - k) / (2**(n-k) * sympy.factorial(k) * sympy.factorial(n - k))"
   ]
  },
  {
   "cell_type": "code",
   "execution_count": null,
   "id": "0797dcc3",
   "metadata": {},
   "outputs": [],
   "source": [
    "def B(n, s) :\n",
    "    return sum(a(n, k)*(s**k) for k in range(0, n+1))"
   ]
  },
  {
   "cell_type": "code",
   "execution_count": null,
   "id": "31cc5aaa",
   "metadata": {},
   "outputs": [],
   "source": [
    "def H_bessel(n, s, filter_type=None, w0=1, wb=1) :\n",
    "    if filter_type == \"LOW_PASS\" :\n",
    "        P = s / w0\n",
    "    elif filter_type == \"HIGH_PASS\" :\n",
    "        P = w0 / s\n",
    "    elif filter_type == \"BAND_PASS\" :\n",
    "        P = (s**2 + w0**2) / (s * wb)\n",
    "    elif filter_type == \"BAND_STOP\" :\n",
    "        P = (s * wb) / (s**2 + w0**2)\n",
    "        \n",
    "    return (B(n, 0)) / (B(n, P))"
   ]
  },
  {
   "cell_type": "code",
   "execution_count": null,
   "id": "0b0a4d05",
   "metadata": {},
   "outputs": [],
   "source": [
    "H3 = H_bessel(3, s, \"HIGH_PASS\", wc, 0)\n",
    "H3"
   ]
  },
  {
   "cell_type": "code",
   "execution_count": null,
   "id": "bf9d8c6b",
   "metadata": {},
   "outputs": [],
   "source": [
    "u = H3.subs({s: 2 * (Zn) / (Zp)})\n",
    "u"
   ]
  },
  {
   "cell_type": "code",
   "execution_count": null,
   "id": "ffea5faa",
   "metadata": {},
   "outputs": [],
   "source": [
    "u.expand().together()\n"
   ]
  },
  {
   "cell_type": "code",
   "execution_count": null,
   "id": "9bc3e71a",
   "metadata": {},
   "outputs": [],
   "source": [
    "(1/(u.args[1])).args[2].expand().together()"
   ]
  },
  {
   "cell_type": "code",
   "execution_count": null,
   "id": "41e0172d",
   "metadata": {},
   "outputs": [],
   "source": [
    "bilinear_transform( H_bessel(3, s, \"HIGH_PASS\", wc, 0) )\n"
   ]
  },
  {
   "cell_type": "code",
   "execution_count": null,
   "id": "853e55e1",
   "metadata": {},
   "outputs": [],
   "source": []
  }
 ],
 "metadata": {
  "kernelspec": {
   "display_name": "Python 3 (ipykernel)",
   "language": "python",
   "name": "python3"
  },
  "language_info": {
   "codemirror_mode": {
    "name": "ipython",
    "version": 3
   },
   "file_extension": ".py",
   "mimetype": "text/x-python",
   "name": "python",
   "nbconvert_exporter": "python",
   "pygments_lexer": "ipython3",
   "version": "3.9.13"
  }
 },
 "nbformat": 4,
 "nbformat_minor": 5
}
