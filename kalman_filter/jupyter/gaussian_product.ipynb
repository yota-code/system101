{
 "cells": [
  {
   "cell_type": "markdown",
   "id": "702ecce4-9789-450b-80de-e50e881b438b",
   "metadata": {},
   "source": [
    "[dérivation complète](http://blog.jafma.net/2010/11/09/the-product-of-two-gaussian-pdfs-is-not-a-pdf-but-is-gaussian-a-k-a-loving-algebra/)"
   ]
  },
  {
   "cell_type": "code",
   "execution_count": null,
   "id": "71f7780b-6d70-4a07-9719-fe40983264de",
   "metadata": {},
   "outputs": [],
   "source": [
    "import sympy as sp\n",
    "import numpy as np\n",
    "\n",
    "import matplotlib.pyplot as plt"
   ]
  },
  {
   "cell_type": "code",
   "execution_count": null,
   "id": "aae0ebac-7497-4ae5-8a37-2d1458504376",
   "metadata": {},
   "outputs": [],
   "source": [
    "x, m, ma, mb, s, sa, sb, tau = sp.symbols(\"x mu, mu_A mu_B sigma sigma_A sigma_B tau\")\n",
    "\n",
    "v = {ma: 1.0, sa: 1.0, mb: -1.0, sb: 2.0, tau: 2 * sp.pi}\n",
    "x_arr = np.linspace(-5, 5, 512)\n",
    "\n",
    "def arr(e) :\n",
    "    f = e.subs(v).collect(x)\n",
    "    return np.array([float(f.subs({x: i})) for i in x_arr])"
   ]
  },
  {
   "cell_type": "markdown",
   "id": "9618ba28-686c-4c11-bd40-4ec868c57d97",
   "metadata": {},
   "source": [
    "On défini une distribution gaussienne $\\mathcal{G}(x, \\mu, \\sigma)$ de moyenne $\\mu$ et d'écart type $\\sigma$ par la fonction suivante :\n",
    "\n",
    "$$ \\begin{equation}\n",
    "\\mathcal{G}(x, \\mu, \\sigma) = \\frac{1}{\\sqrt{2 \\pi \\sigma^2}} e^{- \\frac{(x - \\mu)^2}{2 \\sigma^2} }\n",
    "\\end{equation} $$\n",
    "\n",
    "Cette fonction est symétrique autour de $\\mu$ et, afin de représenter une densité de probabilité, elle est normalisée de sorte que son intégrale sur tout le domaine soit égale à $1$"
   ]
  },
  {
   "cell_type": "markdown",
   "id": "f910e69a-cc7b-4946-ac63-ea314963c9d7",
   "metadata": {},
   "source": [
    "Si l'on cherche à calculer le produit:\n",
    "\n",
    "$$ \\mathcal{G}(x, {\\color{royalblue}\\mu_A}, {\\color{royalblue}\\sigma_A}) \\mathcal{G}(x, {\\color{deeppink}\\mu_B}, {\\color{deeppink}\\sigma_B}) $$\n",
    "\n",
    "Le résultat est une bien une gaussienne, mais multiplié par un facteur constant $Q$"
   ]
  },
  {
   "cell_type": "code",
   "execution_count": null,
   "id": "1f7d5d27-7fd6-464e-8d5f-e07a591979e4",
   "metadata": {},
   "outputs": [],
   "source": [
    "ga = sp.exp(-1 * (x - ma)**2 / (2 * sa**2)) / (sp.sqrt(tau * sa**2))\n",
    "ya_arr = arr(ga)"
   ]
  },
  {
   "cell_type": "code",
   "execution_count": null,
   "id": "47797397-7583-474e-965e-c44cafb98dbc",
   "metadata": {},
   "outputs": [],
   "source": [
    "gb = sp.exp(-1 * (x - mb)**2 / (2 * sb**2)) / (sp.sqrt(tau * sb**2))\n",
    "yb_arr = arr(gb)"
   ]
  },
  {
   "cell_type": "code",
   "execution_count": null,
   "id": "58590e57-9d50-4d58-817c-2295a5508cf6",
   "metadata": {},
   "outputs": [],
   "source": [
    "gc = ga * gb\n",
    "yc_arr = arr(gc)"
   ]
  },
  {
   "cell_type": "code",
   "execution_count": null,
   "id": "75c9f6c5-acad-48f8-8e47-eedfe9bf7e67",
   "metadata": {},
   "outputs": [],
   "source": [
    "M = (ma * sb**2 + mb * sa**2 ) / (sa**2 + sb**2)"
   ]
  },
  {
   "cell_type": "code",
   "execution_count": null,
   "id": "e151dcd0-130f-4722-9031-3a1ba7c5ec97",
   "metadata": {},
   "outputs": [],
   "source": [
    "S = (sa * sb) / sp.sqrt(sa**2 + sb**2)"
   ]
  },
  {
   "cell_type": "code",
   "execution_count": null,
   "id": "3192ad36-4579-42c8-8fa6-c1679a1c8388",
   "metadata": {},
   "outputs": [],
   "source": [
    "P = S**2 * (ma - mb)**2 / (sa**2 + sb**2) + S**2 * sp.ln(tau * (sa**2 + sb**2))"
   ]
  },
  {
   "cell_type": "code",
   "execution_count": null,
   "id": "a5b167cf-7a85-43d5-b262-0e838c1d24ca",
   "metadata": {},
   "outputs": [],
   "source": [
    "Q = sp.exp(-1 * P / (2 * S**2))\n",
    "Q.simplify()"
   ]
  },
  {
   "cell_type": "code",
   "execution_count": null,
   "id": "439f4c88-f4ef-4e69-ba71-e12948d1945b",
   "metadata": {},
   "outputs": [],
   "source": [
    "gC = sp.exp(-1 * (x - M)**2 / (2 * S**2)) / (sp.sqrt(tau * S**2))\n",
    "yC_arr = arr(gC)"
   ]
  },
  {
   "cell_type": "code",
   "execution_count": null,
   "id": "f64a3d4c-6986-4964-9ca6-749dcac72b2c",
   "metadata": {},
   "outputs": [],
   "source": [
    "gQ = gC * Q\n",
    "yQ_arr = arr(gQ)"
   ]
  },
  {
   "cell_type": "code",
   "execution_count": null,
   "id": "e4998ff1-a610-4736-8c56-0e487368f77a",
   "metadata": {},
   "outputs": [],
   "source": [
    "plt.plot(x_arr, ya_arr)\n",
    "plt.plot(x_arr, yb_arr)\n",
    "plt.plot(x_arr, yc_arr)\n",
    "plt.plot(x_arr, yC_arr, linewidth=5, alpha=0.4)\n",
    "plt.plot(x_arr, yQ_arr, linewidth=5, alpha=0.4)\n",
    "plt.grid()\n",
    "plt.show()"
   ]
  },
  {
   "cell_type": "code",
   "execution_count": null,
   "id": "7bbb831e-9f8c-4022-b447-12fbb33564c0",
   "metadata": {},
   "outputs": [],
   "source": [
    "((-1 * (x - ua)**2 / (2 * sa**2)) / (sa * sp.sqrt(tau)) + (-1 * (x - ub)**2 / (2 * sb**2)) / (sb * sp.sqrt(tau))).expand().collect(x)"
   ]
  },
  {
   "cell_type": "code",
   "execution_count": null,
   "id": "21426056-ca5d-46d2-89b7-d319ee321493",
   "metadata": {},
   "outputs": [],
   "source": [
    "k = sa**2 / (sa**2 + sb**2)"
   ]
  },
  {
   "cell_type": "code",
   "execution_count": null,
   "id": "8b3171a3-450c-4592-a13c-e556920f52ae",
   "metadata": {},
   "outputs": [],
   "source": [
    "(ua - k*(ub - ua)).expand().simplify()"
   ]
  },
  {
   "cell_type": "code",
   "execution_count": null,
   "id": "5818b879-ca82-43cf-923a-ce0b6f425cd6",
   "metadata": {},
   "outputs": [],
   "source": [
    "w = {\n",
    "    u: ua - k*(ub - ua),\n",
    "    s: sp.sqrt(sa**2 * (1 - k))\n",
    "}\n",
    "ce = (-1 * (x - u)**2 / (2 * s**2)).subs(w).expand().collect(x).simplify()\n",
    "cd = (s * sp.sqrt(tau)).subs(w).expand().collect(x).simplify()"
   ]
  },
  {
   "cell_type": "code",
   "execution_count": null,
   "id": "f6b4f547-79b2-46aa-b7d6-b962427aa25b",
   "metadata": {},
   "outputs": [],
   "source": [
    "ce"
   ]
  },
  {
   "cell_type": "code",
   "execution_count": null,
   "id": "9edb9e72-8e1b-42be-99df-cf9de73192cb",
   "metadata": {},
   "outputs": [],
   "source": [
    "cd"
   ]
  },
  {
   "cell_type": "code",
   "execution_count": null,
   "id": "1fed37f4-294c-44bd-a9d7-8932490dfded",
   "metadata": {},
   "outputs": [],
   "source": [
    "gd = sp.exp(ce) / (cd)"
   ]
  },
  {
   "cell_type": "code",
   "execution_count": null,
   "id": "8a092d9f-9a14-4d40-9c62-7803dc35a40f",
   "metadata": {},
   "outputs": [],
   "source": [
    "yd_arr = np.array([float(gd.subs(v).subs({x: i})) for i in x_arr])"
   ]
  },
  {
   "cell_type": "code",
   "execution_count": null,
   "id": "81485fca-62d3-44f4-8465-19086df5301c",
   "metadata": {},
   "outputs": [],
   "source": [
    "plt.plot(x_arr, ya_arr, label=\"A\")\n",
    "plt.plot(x_arr, yb_arr, label=\"B\")\n",
    "plt.plot(x_arr, 8.2*yc_arr, '--', label=\"C\")\n",
    "plt.plot(x_arr, yd_arr, label=\"D\")\n",
    "plt.legend()\n",
    "plt.grid()\n",
    "plt.show()"
   ]
  },
  {
   "cell_type": "code",
   "execution_count": null,
   "id": "bf5e0f3e-bc1d-42b1-ade4-5bb5aa12cf0a",
   "metadata": {},
   "outputs": [],
   "source": []
  }
 ],
 "metadata": {
  "kernelspec": {
   "display_name": "Python 3 (ipykernel)",
   "language": "python",
   "name": "python3"
  },
  "language_info": {
   "codemirror_mode": {
    "name": "ipython",
    "version": 3
   },
   "file_extension": ".py",
   "mimetype": "text/x-python",
   "name": "python",
   "nbconvert_exporter": "python",
   "pygments_lexer": "ipython3",
   "version": "3.12.3"
  }
 },
 "nbformat": 4,
 "nbformat_minor": 5
}
