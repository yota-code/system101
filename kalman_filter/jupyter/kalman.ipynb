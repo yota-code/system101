{
 "cells": [
  {
   "cell_type": "code",
   "execution_count": null,
   "metadata": {
    "jupyter": {
     "outputs_hidden": true
    }
   },
   "outputs": [],
   "source": [
    "import math\n",
    "\n",
    "import numpy as np\n",
    "import matplotlib.pyplot as plt"
   ]
  },
  {
   "cell_type": "markdown",
   "metadata": {},
   "source": [
    "L'hypothèse générale du filtre de Kalman est que :\n",
    "\n",
    "* le système peut être décrit par des combinaisons d'équations linéaires, et ces équations sont connues\n",
    "* les variables du systèmes peuvent être décrites par leur moyenne $\\mu$ et l'amplitude de leur incertitude $\\sigma$ (appelée covariance de l'erreur pour les gens qui se la pète)\n",
    "\n",
    "Pour un Kalman discret, le filtrage se fera ensuite en deux étapes :\n",
    "\n",
    "1. **La Prédiction**: connaissant l'état actuel (valeurs et incertitudes) et la valeur des commandes, la connaissance des équations du système permet de calculer un nouveal état estimé.\n",
    "2. **La Mise à jour**: de cet état estimé, on peut calculer les valeurs qu'auraient dû donner les senseurs, les comparer aux valeurs réellement obtenues et en tirer une correction.\n",
    "\n",
    "Prenons l'exemple d'un petit mobile à roulettes, équipé de deux roues, et se déplaçant en ligne droite.\n",
    "\n",
    "Le mobile est totalement défini par son vecteur d'état, et récciproquement, le vecteur d'état contient toutes les informations nécessaire à la description du système. Ce sont ces paramètres qui vont être filtrés.\n",
    "\n",
    "$$\n",
    "\\vec{x} = \\begin{bmatrix} p \\\\ v \\end{bmatrix}\n",
    "$$\n",
    "\n",
    "Avec $p$ la position et $v$ la vitesse, suivant le seul axe de liberté du mobile."
   ]
  },
  {
   "cell_type": "markdown",
   "metadata": {},
   "source": [
    "En fait, l'état réel n'est jamais vraiment connu, mais le filtre va nous permettre de maintenir  une meilleure estimée de l'état à l'instant $k$.\n",
    "\n",
    "$$\n",
    "\\hat{\\mathbf{x}}_k = \\begin{bmatrix} p \\\\ v \\end{bmatrix} _ k\n",
    "$$\n",
    "\n",
    "* $\\hat{\\mathbf{x}}_k$, la meilleure estimée de l'état à l'instant $k$\n",
    "* $p$, la position moyenne estimée\n",
    "* $v$, la vitesse moyenne estimée"
   ]
  },
  {
   "cell_type": "markdown",
   "metadata": {},
   "source": [
    "Mais également une information sur l'incertitude de cet état, via la matrice des covariances. Puisque nous avons, au lieu d'un scalaire $\\mu$ représentant la moyenne, un vecteur d'état $\\hat{x}$ à $n$ éléments, l'incertitude est une matrice $n \\times n$. Les $\\Sigma$ de la diagonale definissent une incertitude associée à chaque éléments du vecteur et, le reste, représente les incertitudes corrélées.\n",
    "\n",
    "$$\n",
    "\\mathbf{P}_k = \n",
    "\\begin{bmatrix}\n",
    "    \\Sigma_{pp} & \\Sigma_{pv} \\\\\n",
    "    \\Sigma_{vp} & \\Sigma_{vv}\n",
    "\\end{bmatrix}\n",
    "$$\n",
    "\n",
    "* $\\Sigma_{pp}$, l'incertitude sur la position\n",
    "* $\\Sigma_{vv}$, l'incertitude sur la vitesse\n",
    "* $\\Sigma_{pv}$ la corrélation d'incertitude entre la position est la vitesse. $\\Sigma_{pv} = \\Sigma_{vp}$, la matrice est symétrique"
   ]
  },
  {
   "cell_type": "markdown",
   "metadata": {},
   "source": [
    "Il nous faut maintenant écrire les relations (issues des lois de la physique et estimées a priori d'après la connaissance du système) qui vont décrire le passage de $T_n$ à $T_{n+1}$.\n",
    "\n",
    "Dans le cas du mobile, il est possible de mettre en équation la position et la vitesse courante, par rapport à la position et la vitesse précédente.\n",
    "\n",
    "$$\n",
    "\\begin{split}\n",
    "p_k &= p_{k-1} + T &v_{k-1} \\\\\n",
    "v_k &= &v_{k-1}\n",
    "\\end{split}\n",
    "$$\n",
    "\n",
    "ou, sous forme matricielle\n",
    "\n",
    "$$\n",
    "\\hat{\\mathbf{x}}_k = \\begin{bmatrix}\n",
    "    1 & T \\\\\n",
    "    0 & 1\n",
    "\\end{bmatrix} \\hat{\\mathbf{x}}_{k-1}\n",
    "$$\n",
    "\n",
    "Soit\n",
    "\n",
    "$$\n",
    "\\hat{\\mathbf{x}}_k = \\mathbf{F}_k \\hat{\\mathbf{x}}_{k-1}\n",
    "$$\n",
    "\n",
    "Avec $\\mathbf{F}_k$ la matrice de prédiction"
   ]
  },
  {
   "cell_type": "markdown",
   "metadata": {},
   "source": [
    "Si la covariance de $\\mathbf{x}$ est représentée par la matrice $\\mathbf{P}$ :\n",
    "\n",
    "$$\n",
    "Cov(\\mathbf{x}) = \\mathbf{P}\n",
    "$$\n",
    "    \n",
    "Alors,\n",
    "\n",
    "$$\n",
    "Cov(\\mathbf{A} \\mathbf{x}) = \\mathbf{A} \\mathbf{P} \\mathbf{A}^\\mathsf{T}\n",
    "$$\n",
    "    \n",
    "On peut donc ré-écrire nos estimations d'état et de covariance courantes en fonctions des estimations précédentes.\n",
    "\n",
    "$$\n",
    "\\begin{split}\n",
    "\\hat{\\mathbf{x}}_k &= \\mathbf{F}_k \\hat{\\mathbf{x}}_{k-1} \\\\\n",
    "\\mathbf{P}_k &= \\mathbf{F}_k \\mathbf{P}_{k-1} \\mathbf{F}_k^\\mathsf{T}\n",
    "\\end{split}\n",
    "$$"
   ]
  },
  {
   "cell_type": "markdown",
   "metadata": {},
   "source": [
    "Mais il nous reste une connaissance du système à exploiter : la commande. Si elle peut-être connue, on peut alors ajouter les équation physiques correspondantes. Disons que le module est commandé par une accération connue $ a $\n",
    "\n",
    "$$ \\begin{split} \n",
    "\\color{deeppink}{p_k} &= \\color{royalblue}{p_{k-1}} + T &\\color{royalblue}{v_{k-1}} + \\frac{1}{2} & T^2 & \\color{darkorange}{a_{k-1}} \\\\ \n",
    "\\color{deeppink}{v_k} &= &\\color{royalblue}{v_{k-1}} + & T & \\color{darkorange}{a_{k-1}}\n",
    "\\end{split} $$\n",
    "\n",
    "Ce qui peut se mettre sous forme de matrice :\n",
    "\n",
    "$$\n",
    "\\color{deeppink}{\\mathbf{\\hat{x}}_k} = \\mathbf{F}_k \\color{royalblue}{\\mathbf{\\hat{x}}_{k-1}} + \\begin{bmatrix} \n",
    "\\frac{1}{2}T^2 \\\\ \n",
    "T\n",
    "\\end{bmatrix} \\begin{bmatrix} \\color{darkorange}{a_{k-1}} \\end{bmatrix} \n",
    "$$\n",
    "\n",
    "Soit\n",
    "\n",
    "$$\n",
    "\\color{deeppink}{\\mathbf{\\hat{x}}_k} = \\mathbf{F}_k \\color{royalblue}{\\mathbf{\\hat{x}}_{k-1}} + \\mathbf{B}_k \\color{darkorange}{\\mathbf{u}_k}\n",
    "$$\n",
    "\n",
    "avec $ \\mathbf{B}_k = \\begin{bmatrix} \\frac{1}{2}T^2 \\\\ T \\end{bmatrix} $ la matrice de commande et $ \\vec{u_k} $ le vecteur-ligne de commande.\n",
    "\n",
    "On peut également prendre en compte des perturbations inconnues $ \\mathbf{Q} $ qui contribuent à la mise à jour de la matrice de covariance $ \\mathbf{P} $. L'équation totale devient donc :\n",
    "\n",
    "$$ \\begin{equation} \n",
    "\\begin{split} \n",
    "\\color{deeppink}{\\hat{\\mathbf{x}}_k} &= \\mathbf{F}_k \\color{royalblue}{\\hat{\\mathbf{x}}_{k-1}} + \\mathbf{B}_k \\color{darkorange}{\\mathbf{u}_k} \\\\ \n",
    "\\color{deeppink}{\\mathbf{P}_k} &= \\mathbf{F_k} \\color{royalblue}{\\mathbf{P}_{k-1}} \\mathbf{F}_k^T + \\color{mediumaquamarine}{\\mathbf{Q}_k} \n",
    "\\end{split}\n",
    "\\end{equation} $$\n",
    "\n"
   ]
  },
  {
   "cell_type": "markdown",
   "metadata": {},
   "source": [
    "Il ne reste plus qu'à tenir compte de l'incertitude sur la mesure :\n",
    "$$ \\begin{split} \n",
    "\\vec{z_k} &= \\mathbf{H}_k \\color{deeppink}{\\mathbf{\\hat{x}}_k} \\\\ \n",
    "\\mathbf{Z_k} &= \\mathbf{H}_k \\color{deeppink}{\\mathbf{P}_k} \\mathbf{H}_k^T \n",
    "\\end{split} $$\n",
    "\n",
    "* $\\mathbf{H}_k$, la matrice de projection des états sur les mesures\n",
    "* $\\vec{z_k}$, la valeur moyenne attendue sur les senseurs\n",
    "* $Z_k$, l'erreur gaussienne attendue sur les senseurs\n",
    "\n",
    "Dans l'exemple de notre mobile, deux capteurs de vitesse sont installés sur les roues et donnent la vitesse du mobile avec une erreur faible, et un télémètre donne la position, avec une erreur plus élevée\n",
    "\n",
    "$$\n",
    "\\mathbf{H}_k = \n",
    "\\begin{bmatrix}\n",
    "    1 & 0 \\\\\n",
    "    0 & 1 \\\\\n",
    "    0 & 1\n",
    "\\end{bmatrix}\n",
    "$$\n"
   ]
  },
  {
   "cell_type": "markdown",
   "metadata": {},
   "source": [
    "## Produit de gaussiennes\n",
    "\n",
    "Une hypothèse de travail du filtre de Kalman est que chaque valeur peut être modélisée par une gaussienne représentant sa distribution de probabilité.\n",
    "\n",
    "Si on défini une distribution gaussienne $\\mathcal{G}(x, \\mu, \\sigma)$ de moyenne $\\mu$ et d'écart type $\\sigma$ par la fonction suivante :\n",
    "\n",
    "$$ \\begin{equation}\n",
    "\\mathcal{G}(x, \\mu, \\sigma) = \\frac{1}{ \\sigma \\sqrt{ 2\\pi } } e^{ -\\frac{ (x – \\mu)^2 }{ 2\\sigma^2 } } \n",
    "\\end{equation} $$"
   ]
  },
  {
   "cell_type": "code",
   "execution_count": null,
   "metadata": {},
   "outputs": [],
   "source": [
    "x = np.linspace(-10, 20, 100)\n",
    "\n",
    "def gaussian(x, m, s) :\n",
    "    return 1.0 / (s * math.sqrt(2.0 * math.pi)) * np.exp(((x - m) ** 2)/(-2.0 * (s ** 2)))\n",
    "\n",
    "plt.plot(x, gaussian(x, 3.0, 2.0))\n",
    "plt.show()"
   ]
  },
  {
   "cell_type": "markdown",
   "metadata": {},
   "source": [
    "On trouve que le produit (renormalisé) de deux gaussiennes $\\mathcal{G}(x, \\color{deeppink}{\\mu_0}, \\color{deeppink}{\\sigma_0})$ et $\\mathcal{G}(x, \\color{royalblue}{\\mu_1}, \\color{royalblue}{\\sigma_1})$ est paramétré par :\n",
    "\n",
    "$$ \\begin{equation}\n",
    "\\begin{split} \n",
    "\\color{purple}{\\mu} &= \\color{deeppink}{\\mu_0} + \\frac{\\color{deeppink}{\\sigma_0^2} (\\color{royalblue}{\\mu_1} – \\color{deeppink}{\\mu_0})} {\\color{deeppink}{\\sigma_0^2} + \\color{royalblue}{\\sigma_1^2}}\\\\ \n",
    "\\color{purple}{\\sigma}^2 &= \\color{deeppink}{\\sigma_0}^2 – \\frac{\\color{deeppink}{\\sigma_0}^4} {\\color{deeppink}{\\sigma_0}^2 + \\color{royalblue}{\\sigma_1}^2} \n",
    "\\end{split} \n",
    "\\end{equation} $$\n",
    "\n",
    "En posant\n",
    "\n",
    "$$\\color{darkorange}{\\mathbf{k}} = \\frac{\\color{deeppink}{\\sigma_0}^2}{\\color{deeppink}{\\sigma_0}^2 + \\color{royalblue}{\\sigma_1}^2}$$\n",
    "\n",
    "on obtient :\n",
    "\n",
    "$$ \\begin{equation} \n",
    "\\begin{split} \n",
    "\\color{purple}{\\mu} &= \\color{deeppink}{\\mu_0} + &\\color{darkorange}{\\mathbf{k}} (\\color{royalblue}{\\mu_1} - \\color{deeppink}{\\mu_0})\\\\ \n",
    "\\color{purple}{\\sigma}^2 &= \\color{deeppink}{\\sigma_0}^2 – &\\color{darkorange}{\\mathbf{k}} \\color{deeppink}{\\sigma_0}^2 \n",
    "\\end{split}\n",
    "\\end{equation} $$"
   ]
  },
  {
   "cell_type": "code",
   "execution_count": null,
   "metadata": {},
   "outputs": [],
   "source": [
    "m0, s0 = 2.0, 2.0\n",
    "m1, s1 = 9.0, 4.0\n",
    "\n",
    "k = (s0**2) / (s0**2 + s1**2)\n",
    "\n",
    "m = m0 + k * (m1 - m0)\n",
    "s = math.sqrt(s0**2 - k * s0**2)\n",
    "\n",
    "plt.plot(x, gaussian(x, m0, s0))\n",
    "plt.plot(x, gaussian(x, m1, s1))\n",
    "#plt.plot(x, gaussian(x, m0, s0) * gaussian(x, m1, s1) * ((math.sqrt(2*math.pi) * s0**2) / (s0*s1)))\n",
    "plt.plot(x, gaussian(x, m, s), '.')\n",
    "plt.show()"
   ]
  },
  {
   "cell_type": "markdown",
   "metadata": {},
   "source": [
    "De manière similaire, sous forme matricielle, si on pose :\n",
    "$$\n",
    "\\color{orange}{\\mathbf{K}} = \\color{deeppink}{\\Sigma_0} (\\color{deeppink}{\\Sigma_0} + \\color{royalblue}{\\Sigma_1})^{-1} \n",
    "$$\n",
    "On obtient :\n",
    "$$\n",
    "\\begin{split} \n",
    "\\color{purple}{\\vec{\\mu}} &= \\color{deeppink}{\\vec{\\mu}_0} + & \\color{darkorange}{\\mathbf{K}} (\\color{royalblue}{\\vec{\\mu}_1} – \\color{deeppink}{\\vec{\\mu}_0}) \\\\ \n",
    "\\color{purple}{\\Sigma} &= \\color{deeppink}{\\Sigma_0} – &\\color{orange}{\\mathbf{K}} \\color{deeppink}{\\Sigma_0}\n",
    "\\end{split}\n",
    "$$"
   ]
  },
  {
   "cell_type": "markdown",
   "metadata": {
    "collapsed": true,
    "jupyter": {
     "outputs_hidden": true
    }
   },
   "source": [
    "## Prédiction\n",
    "\n",
    "La première étape est donc de faire une estimation de l'état à $T_k$ connaissant l'état à $T_{k-1}$ et la commande. Et d'en extraire une première estimation du  vecteur d'observation, celui lui qu'on aurait du lire sur les senseurs.\n",
    "\n",
    "$$ \\begin{equation} \\begin{split} \n",
    "\\hat{\\mathbf{x}}_k &= \\mathbf{F}_k \\mathbf{x}_{k-1} + \\mathbf{B}_k \\vec{u}_k \\\\ \n",
    "\\mathbf{P}_k &= \\mathbf{F_k} \\mathbf{P}_{k-1} \\mathbf{F}_k^\\mathsf{T} + \\mathbf{Q}_k \n",
    "\\end{split} \\end{equation} $$\n",
    "\n",
    "Partant de la prédiction, il ne reste qu'à la projeter suivant la matrice d'observation pour obtenir la valeur prédite lue sur les senseurs :\n",
    "\n",
    "$$ \\begin{equation} \\begin{split} \n",
    "\\vec{z}_k &= \\mathbf{H}_k \\mathbf{\\hat{x}}_k \\\\ \n",
    "\\mathbf{Z}_k &= \\mathbf{H}_k \\mathbf{P}_k \\mathbf{H}_k^T \n",
    "\\end{split} \\end{equation}$$\n"
   ]
  },
  {
   "cell_type": "markdown",
   "metadata": {},
   "source": [
    "La deuxième, est de confronter les mesures prédites aux mesures obtenues réellement, et de trouver la combinaison de leurs gaussiennes\n",
    "\n",
    "$$ \\begin{equation} \\begin{split} \n",
    "\\mathbf{r}_k \\\\ \n",
    "\\mathbf{R}_k\n",
    "\\end{split} \\end{equation}$$\n",
    "\n",
    "Avec $\\mathbf{r}_k$ les valeurs ($\\mu$) relevées sur les senseurs et $\\mathbf{R}_k$ l'estimation d'erreur ($\\sigma^2$) des capteurs réels. Afin d'obtenirs deux nouvelles estimations corrigées $\\mathbf{y}_k$ et $\\mathbf{Y}_k$.\n",
    "\n",
    "$$ \\begin{equation} \\begin{split} \n",
    "\\mathbf{y}_k &= \\mathbf{z}_k + \\mathbf{K} ( \\mathbf{r}_k - \\mathbf{z}_k ) \\\\ \n",
    "\\mathbf{Y}_k &= \\mathbf{Z}_k - \\mathbf{K} \\mathbf{Z}_k\n",
    "\\end{split} \\end{equation}$$\n",
    "\n",
    "Avec \n",
    "\n",
    "$$ \\begin{equation} \\begin{split} \n",
    "\\mathbf{y}_k &= \\mathbf{H}_k \\mathbf{x}'_k \\\\ \n",
    "\\mathbf{Y}_k &= \\mathbf{H}_k \\mathbf{X}'_k \\mathbf{H}_k^T \n",
    "\\end{split} \\end{equation}$$\n",
    "\n",
    "$\\mathbf{x}'_k$ représentant les valeurs corrigées de l'état et $\\mathbf{X}'_k$ les valeurs corrigées de la matrice de covariance.\n",
    "\n",
    "\n"
   ]
  },
  {
   "cell_type": "code",
   "execution_count": null,
   "metadata": {
    "jupyter": {
     "outputs_hidden": true
    }
   },
   "outputs": [],
   "source": []
  }
 ],
 "metadata": {
  "kernelspec": {
   "display_name": "Python 3 (ipykernel)",
   "language": "python",
   "name": "python3"
  },
  "language_info": {
   "codemirror_mode": {
    "name": "ipython",
    "version": 3
   },
   "file_extension": ".py",
   "mimetype": "text/x-python",
   "name": "python",
   "nbconvert_exporter": "python",
   "pygments_lexer": "ipython3",
   "version": "3.12.3"
  }
 },
 "nbformat": 4,
 "nbformat_minor": 4
}
