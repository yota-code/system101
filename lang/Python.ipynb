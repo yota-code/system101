{
 "cells": [
  {
   "cell_type": "markdown",
   "metadata": {},
   "source": [
    "# Python(3) dans le désordre\n",
    "\n",
    "Dans ce document, les exemples, préfixés par `In[]` sont tous modifiables, et leur résultat visible immédiatement après.\n",
    "N'hésitez pas à jouer dans ce bac à sable au fil de votre lecture.\n",
    "\n",
    "## Installer et lancer python\n",
    "\n",
    "### Sous linux en général et ubuntu en particulier\n",
    "\n",
    "Il n'y a rien a faire, python3 devrait être installé par défaut. Pour le vérifier, lancer la commande `python3 --version` dans un terminal, la réponse devrait ressembler à `Python 3.6.7` (le numéro de version peut être différent)\n",
    "\n",
    "Sinon, il est aisé de l'installer en lançant une commande `sudo apt install python3`\n",
    "\n",
    "Par convention, sous les systèmes posix, tout fichier commençant par `#!/usr/bin/env python3` (le `#` doit bien être le premier caractère du fichier) et étant _éxecutable_ peut être lancé comme un programme.\n",
    "\n",
    "Sous votre éditeur de texte préféré, avec vos petits doigts boudins, tapez le texte suivant :\n",
    "```\n",
    "#!/usr/bin/env python3\n",
    "\n",
    "print(\"Your mother was a hamster and your father smelt of elderberries!\")\n",
    "```\n",
    "\n",
    "Sauvegarder sous un nom qui vous sied et qui termine par `.py` (ou pas), quitter et, au choix :\n",
    "\n",
    "1. lancer la commande suivante `chmod +x citation.py` (pour le rendre exécutable), puis `./citation.py`\n",
    "2. utiliser l'interpréteur en lançant `python3 citation.py`\n",
    "\n",
    "### Sous windows\n",
    "\n",
    "Je recommande d'installer la solution complète fournie par [Anaconda](https://www.anaconda.com/download/#windows) et d'utiliser spyder comme éditeur, pour commencer.\n",
    "Il offre un interface proche de celle de matlab, avec un côté tout en un très rassurant pour les premiers pas."
   ]
  },
  {
   "cell_type": "markdown",
   "metadata": {},
   "source": [
    "## À quoi ça ressemble\n",
    "\n",
    "La grosse particularité de python, c'est que la structure du code est déterminée par l'indentation.\n",
    "\n",
    "* Un sous bloc commence toujours par :\n",
    "    1. deux points\n",
    "    2. un retour à la ligne\n",
    "    3. suivi d'un niveau d'indentation supplémentaire.\n",
    "* Il se termine lorsque le niveau d'indentation revient au niveau précédent\n",
    "\n",
    "Voici un exemple simple, suivit ce que produit son exécution"
   ]
  },
  {
   "cell_type": "code",
   "execution_count": 78,
   "metadata": {},
   "outputs": [
    {
     "name": "stdout",
     "output_type": "stream",
     "text": [
      "0 est un chiffre pair\n",
      "1 est un chiffre impair\n",
      "2 est un chiffre pair\n",
      "3 est un chiffre impair\n",
      "voilà, tu mourras moins bête\n"
     ]
    }
   ],
   "source": [
    "for i in range(4) :\n",
    "    print(i, \"est un chiffre\", end=' ')\n",
    "    if (i % 2) == 0 :\n",
    "        print(\"pair\")\n",
    "    else :\n",
    "        print(\"impair\")\n",
    "print(\"voilà, tu mourras moins bête\")"
   ]
  },
  {
   "cell_type": "markdown",
   "metadata": {},
   "source": [
    "> Soyez vigilant et réglez votre éditeur ! Quel que soit votre choix pour le marqueur d'indentation (quatre espaces ou une tabulation) il doit être cohérent sur tout le fichier.\n",
    "\n",
    "> Pour autant, tout n'est pas obligé de tenir sur une seule ligne, les symboles ouvrants et fermants permettent d'écrire des expressions complexes sur plusieurs lignes. L'indentation à l'intérieur importe peu"
   ]
  },
  {
   "cell_type": "code",
   "execution_count": 61,
   "metadata": {},
   "outputs": [
    {
     "data": {
      "text/plain": [
       "26"
      ]
     },
     "execution_count": 61,
     "metadata": {},
     "output_type": "execute_result"
    }
   ],
   "source": [
    "u = (\n",
    "    1 + 2 + 3 *\n",
    "    4 + 5 + 6\n",
    ")\n",
    "u"
   ]
  },
  {
   "cell_type": "markdown",
   "metadata": {},
   "source": [
    "> La documentation du langage et de l'ensembles des librairies inclues par défaut est complète, claire et précise. N'hésitez pas à vous y référer\n",
    "\n"
   ]
  },
  {
   "cell_type": "markdown",
   "metadata": {},
   "source": [
    "## Les types scalaires\n",
    "\n",
    "Le python permet de manipuler toutes sortes de trucs, pour ne pas les appeler truc, nous les appellerons objets. Et on appellera le type de ces objets : le type.\n",
    "\n",
    "> Il y a deux types de types, les types scalaires et puis les autres.\n",
    "\n",
    "### Le gros nul\n",
    "\n",
    "* `None`, pour les trucs vides\n",
    "\n",
    "### Les Booléens\n",
    "\n",
    "* `True` et `False`, les deux valeurs booléennes"
   ]
  },
  {
   "cell_type": "code",
   "execution_count": 82,
   "metadata": {},
   "outputs": [
    {
     "data": {
      "text/plain": [
       "False"
      ]
     },
     "execution_count": 82,
     "metadata": {},
     "output_type": "execute_result"
    }
   ],
   "source": [
    "False is True"
   ]
  },
  {
   "cell_type": "markdown",
   "metadata": {},
   "source": [
    "### Les Numériques\n",
    "\n",
    "* les *entiers* permettent de représenter tous les nombres de $\\mathbb{Z}$, sans se soucier de leur signe ou de leur taille."
   ]
  },
  {
   "cell_type": "code",
   "execution_count": 62,
   "metadata": {},
   "outputs": [
    {
     "data": {
      "text/plain": [
       "36922589523355488684862534309606828646354858539339639340108704606860278316954612223011926714496786380566924041472156813147058283837186067759425594341390772627248925636473894065900906894946778020270362243511617241359521"
      ]
     },
     "execution_count": 62,
     "metadata": {},
     "output_type": "execute_result"
    }
   ],
   "source": [
    "3**456"
   ]
  },
  {
   "cell_type": "markdown",
   "metadata": {},
   "source": [
    "* les *réels* sont implémentés avec des `double` en suivant la norme [usuelle](https://en.wikipedia.org/wiki/IEEE_754)."
   ]
  },
  {
   "cell_type": "code",
   "execution_count": 63,
   "metadata": {},
   "outputs": [
    {
     "data": {
      "text/plain": [
       "1.570795"
      ]
     },
     "execution_count": 63,
     "metadata": {},
     "output_type": "execute_result"
    }
   ],
   "source": [
    "5.0e-1 * 3.14159"
   ]
  },
  {
   "cell_type": "markdown",
   "metadata": {},
   "source": [
    "* Ont peut aussi compter des nombres complexes ainsi que quelques types spéciaux (fractions, decimal, date et heure, etc. cf. documentation)"
   ]
  },
  {
   "cell_type": "code",
   "execution_count": 64,
   "metadata": {},
   "outputs": [
    {
     "data": {
      "text/plain": [
       "(1+2j)"
      ]
     },
     "execution_count": 64,
     "metadata": {},
     "output_type": "execute_result"
    }
   ],
   "source": [
    "1.0 + 2.0j"
   ]
  },
  {
   "cell_type": "markdown",
   "metadata": {},
   "source": [
    "## Les types subscriptables\n",
    "\n",
    "### Les chaînes\n",
    "\n",
    "Là où la plupart des languages ne font pas de distinction, ici deux objets différents cohabitent.\n",
    "\n",
    "#### les chaînes de caractère\n",
    "\n",
    "Pour du texte : `\"Bonjour Moémi ! お元気ですか？\"`.\n",
    "\n",
    "Celle-ci étant prise dans un format dans lequel tous les caractères définis par la norme unicode sont valides, couvrant quasiment tous les langages connus (modernes ou anciens) : français, chinois, tibétain, grec, cunéiforme, etc.\n",
    "Chaque élément est un caractère, même si le dit caractère est représenté par plusieurs octets.\n",
    "\n",
    "#### les chaînes d'octets\n",
    "\n",
    "Pour des données binaires en vrac : `b'mais pas que \\xf0\\x9f\\x98\\x85'`.\n",
    "\n",
    "Cet objet correspond plus à l'idée de la chaîne de caractère telle qu'on la retrouve en C. Il n'y a d'ailleurs pas de différence avec la forme précédente tant que tous les caractères utilisés sont valides en ASCII. Chaque élément est exactement un octet.\n",
    "\n",
    "#### conversion\n",
    "\n",
    "Pour convertir de l'un à l'autre, il faut avoir connaissance de l'encodage utilisé, parmi ceux de la (liste)[https://docs.python.org/3/library/codecs.html#standard-encodings] suivante. Il faut décoder une chaîne d'octets pour avoir une chaîne de caractères et on encode une chaîne de caractères en une chaîne d'octets. Sachant que la plupart des encodages ne sont valides que pour un sous ensemble de l'unicode, l'opération est souvent périeuse."
   ]
  },
  {
   "cell_type": "code",
   "execution_count": 80,
   "metadata": {},
   "outputs": [
    {
     "data": {
      "text/plain": [
       "'mais pas que 😅'"
      ]
     },
     "execution_count": 80,
     "metadata": {},
     "output_type": "execute_result"
    }
   ],
   "source": [
    "b'mais pas que \\xf0\\x9f\\x98\\x85'.decode(\"utf8\")"
   ]
  },
  {
   "cell_type": "markdown",
   "metadata": {},
   "source": [
    "### Les conteneurs\n",
    "\n",
    "On trouve tout un ensemble d'objets qui permettent de stocker d'autres objets, peu importe leur nature ou leur nombre.\n",
    "\n",
    "* la *liste*, un ensemble ordonné d'éléments : `[1, 2, 3, True, \"Bidule\", [4, 5, 6]]`\n",
    "* le *tuple*, presque pareil : `(1, 2, 3, True, \"Bidule\", [4, 5, 6])`\n",
    "* le *dictionnaire*, un tableau associatif clef → valeur : `{1:\"Machin\", 2:\"Truc\", \"Bidule\": [4, 5, 6]}`\n",
    "* l'*ensemble*, une collection d'éléments uniques qui permet les opérations mathématiques usuelles sur les ensembles (union, intersection, etc.)\n",
    "\n",
    "\n",
    " conteneur | constructeur | syntaxe litérale\n",
    "-----------|--------------|------------------\n",
    "chaîne de caractère | str() | `\"un\"` ou `'deux'`\n",
    "tableaux d'octets | bytes() | `b\"un\"` ou `b'deux'`\n",
    "liste | list() | `[1, 2, 3]`\n",
    "tuple | tuple() | `(1, 2, 3)`\n",
    "dictionnaire | dict() | `{1:\"un\", 2:\"deux\", 3:\"trois\"}`\n",
    "ensemble | set() | `{1, 2, 3}`\n",
    "\n",
    "Et si ça ne suffit pas, il y en a d'autres, inventés pour autant de besoins particuliers (cf. le paquet `collections`). Et enfin, si ce n'est toujours pas assez, il est aisé d'en créer de nouvelles, sur mesure.\n",
    "\n",
    "### Accès par Indice\n",
    "\n",
    "#### Case par case\n",
    "\n",
    "Pour les listes, les tuples et les chaînes de caractères (en fait, tous les objets de la famille des _séquences_) il est possible de n'accéder qu'à une sous partie de l'élément via un mécanisme appelé _slice_."
   ]
  },
  {
   "cell_type": "code",
   "execution_count": 77,
   "metadata": {},
   "outputs": [
    {
     "data": {
      "text/plain": [
       "'D'"
      ]
     },
     "execution_count": 77,
     "metadata": {},
     "output_type": "execute_result"
    }
   ],
   "source": [
    "# création d'une chaîne de caractère de 16 éléments\n",
    "u = 'ABCDEFGHIJKLMNOP'\n",
    "# lecture de la case numéro 3\n",
    "u[3]"
   ]
  },
  {
   "cell_type": "markdown",
   "metadata": {},
   "source": [
    "La logique des slices est celle des piquets et des barrières. Les indices sont ceux des piquets, les valeurs contenues dans les cellules sont l'équivalent des barrières. Les indices étant des entiers relatifs.\n",
    "\n",
    "Le premier piquet est numéroté 0 et l'avant dernier est noté -1 (les nombres négatifs représentent les piquets en partant de la fin).\n",
    "La case retournée lors de l'accès à une case unique est celle de la barrière juste à droite du piquet."
   ]
  },
  {
   "cell_type": "code",
   "execution_count": 66,
   "metadata": {},
   "outputs": [
    {
     "data": {
      "text/plain": [
       "'A'"
      ]
     },
     "execution_count": 66,
     "metadata": {},
     "output_type": "execute_result"
    }
   ],
   "source": [
    "u[0]"
   ]
  },
  {
   "cell_type": "code",
   "execution_count": 67,
   "metadata": {},
   "outputs": [
    {
     "data": {
      "text/plain": [
       "'P'"
      ]
     },
     "execution_count": 67,
     "metadata": {},
     "output_type": "execute_result"
    }
   ],
   "source": [
    "u[-1]"
   ]
  },
  {
   "cell_type": "code",
   "execution_count": 68,
   "metadata": {},
   "outputs": [
    {
     "data": {
      "text/plain": [
       "'O'"
      ]
     },
     "execution_count": 68,
     "metadata": {},
     "output_type": "execute_result"
    }
   ],
   "source": [
    "u[-2]"
   ]
  },
  {
   "cell_type": "markdown",
   "metadata": {},
   "source": [
    "#### Par intervalle\n",
    "\n",
    "Il est également possible de sélectionner des plages entières avec la syntaxe `start:stop`."
   ]
  },
  {
   "cell_type": "code",
   "execution_count": 69,
   "metadata": {},
   "outputs": [
    {
     "data": {
      "text/plain": [
       "'DEFG'"
      ]
     },
     "execution_count": 69,
     "metadata": {},
     "output_type": "execute_result"
    }
   ],
   "source": [
    "u[3:7]"
   ]
  },
  {
   "cell_type": "markdown",
   "metadata": {},
   "source": [
    "L'avantage de cette syntaxe, est que les intervalles contigüs utilisent la même borne : la borne de fin du premier intervalle, est la bonne de début du deuxième. Et que le nombre d'élément extrait est égale à la borne `stop` moins la borne `start`"
   ]
  },
  {
   "cell_type": "code",
   "execution_count": 70,
   "metadata": {},
   "outputs": [
    {
     "data": {
      "text/plain": [
       "'CDEFGH'"
      ]
     },
     "execution_count": 70,
     "metadata": {},
     "output_type": "execute_result"
    }
   ],
   "source": [
    "u[2:8]"
   ]
  },
  {
   "cell_type": "code",
   "execution_count": 71,
   "metadata": {},
   "outputs": [
    {
     "data": {
      "text/plain": [
       "'IJKLMN'"
      ]
     },
     "execution_count": 71,
     "metadata": {},
     "output_type": "execute_result"
    }
   ],
   "source": [
    "u[8:-2]"
   ]
  },
  {
   "cell_type": "markdown",
   "metadata": {},
   "source": [
    "S'il le besoin se fait de vouloir d'accéder à un intervalle semi ouvert (qui n'est pas borné d'un côté), il faut utiliser le mot clef `None` ou ne rien mettre"
   ]
  },
  {
   "cell_type": "code",
   "execution_count": 72,
   "metadata": {},
   "outputs": [
    {
     "data": {
      "text/plain": [
       "'ABCDEFGH'"
      ]
     },
     "execution_count": 72,
     "metadata": {},
     "output_type": "execute_result"
    }
   ],
   "source": [
    "u[None:8]"
   ]
  },
  {
   "cell_type": "code",
   "execution_count": 73,
   "metadata": {},
   "outputs": [
    {
     "data": {
      "text/plain": [
       "'IJKLMNOP'"
      ]
     },
     "execution_count": 73,
     "metadata": {},
     "output_type": "execute_result"
    }
   ],
   "source": [
    "u[-8:]"
   ]
  },
  {
   "cell_type": "markdown",
   "metadata": {},
   "source": [
    "## Les qualificatifs\n",
    "\n",
    "Dans ce language, toute variable est un objet. Ces objets possèdent des qualificatifs particuliers qui ont une influence sur la façon dont ils intéragissent avec le reste du code. Les qualificatifs ne sont pas modifiables, ils sont intrinsèque à l'object (et la façon dont il est implémenté).\n",
    "\n",
    "### Mutable\n",
    "\n",
    "Certains objets sont dits `mutable` (l'inverse étant `immutable`) lorsqu'ils peuvent être modifiés après avoir été créés. Les listes et les dictionnaires portent ce qualificatif."
   ]
  },
  {
   "cell_type": "code",
   "execution_count": 74,
   "metadata": {},
   "outputs": [
    {
     "data": {
      "text/plain": [
       "[0, 4, 2]"
      ]
     },
     "execution_count": 74,
     "metadata": {},
     "output_type": "execute_result"
    }
   ],
   "source": [
    "# on crée une liste de quelques éléments\n",
    "u = [0, 1, 2]\n",
    "# on modifie sur place celui de la case 1\n",
    "u[1] = 4\n",
    "u"
   ]
  },
  {
   "cell_type": "markdown",
   "metadata": {},
   "source": [
    "Lorsqu'il est mutable, un objet est en fait instancié une seule fois, chaque variable n'étant qu'un alias vers cette instance."
   ]
  },
  {
   "cell_type": "code",
   "execution_count": 75,
   "metadata": {},
   "outputs": [
    {
     "data": {
      "text/plain": [
       "[0, 6, 2]"
      ]
     },
     "execution_count": 75,
     "metadata": {},
     "output_type": "execute_result"
    }
   ],
   "source": [
    "v = u # un alias v est créé\n",
    "v[1] = 6 # en modifiant v, je modifie aussi u\n",
    "u"
   ]
  },
  {
   "cell_type": "markdown",
   "metadata": {},
   "source": [
    "Et tout se passe comme si l'objet était passé _par référence_, lors de l'appel de fonctions, suivant le vocable usuel du langage C."
   ]
  },
  {
   "cell_type": "code",
   "execution_count": 76,
   "metadata": {},
   "outputs": [
    {
     "data": {
      "text/plain": [
       "[0, 8, 2]"
      ]
     },
     "execution_count": 76,
     "metadata": {},
     "output_type": "execute_result"
    }
   ],
   "source": [
    "def modify_lst(p) :\n",
    "    p[1] = 8\n",
    "    \n",
    "modify_lst(u) # lors de l'appel de la fonction je modifie la liste passée\n",
    "u"
   ]
  },
  {
   "cell_type": "markdown",
   "metadata": {},
   "source": [
    " conteneur | constructeur | mutable\n",
    "-----------|--------------|------------------\n",
    "scalaire | - | Non\n",
    "chaîne de caractère | str() | Non\n",
    "tableaux d'octets | bytes() | Non\n",
    "liste | list() | Oui\n",
    "tuple | tuple() | Non\n",
    "dictionnaire | dict() | Oui\n",
    "ensemble | set() | Oui"
   ]
  },
  {
   "cell_type": "markdown",
   "metadata": {},
   "source": [
    "### Hashable\n",
    "\n",
    "Pour faire vite, le qualificatif _hashable_ va être requis pour tout object qui sera utilisé comme un clé d'un tableau associatif. En général un object immutable est aussi hashable\n",
    "\n",
    " conteneur | constructeur | hashable\n",
    "-----------|--------------|------------------\n",
    "scalaire | - | Oui\n",
    "chaîne de caractère | str() | Oui\n",
    "tableaux d'octets | bytes() | Oui\n",
    "liste | list() | Non\n",
    "tuple | tuple() | Oui, mais...\n",
    "dictionnaire | dict() | Non\n",
    "ensemble | set() | Non\n",
    "\n",
    "La condition pour qu'un `tuple` soit hashable est que tous ses sous éléments le soient également, et réccursivement..."
   ]
  },
  {
   "cell_type": "markdown",
   "metadata": {},
   "source": [
    "## Propriétés\n",
    "\n",
    "On le verra ultérieurement, mais chaque comportement est réellement associé à une méthode de la classe en question, il est donc aisé d'émuler ces qualificatifs par quelques lignes de code supplémentaire, cf. [doc](https://docs.python.org/3/reference/datamodel.html#emulating-container-types)"
   ]
  },
  {
   "cell_type": "code",
   "execution_count": null,
   "metadata": {},
   "outputs": [],
   "source": []
  }
 ],
 "metadata": {
  "kernelspec": {
   "display_name": "Python 3",
   "language": "python",
   "name": "python3"
  },
  "language_info": {
   "codemirror_mode": {
    "name": "ipython",
    "version": 3
   },
   "file_extension": ".py",
   "mimetype": "text/x-python",
   "name": "python",
   "nbconvert_exporter": "python",
   "pygments_lexer": "ipython3",
   "version": "3.6.7"
  }
 },
 "nbformat": 4,
 "nbformat_minor": 2
}
