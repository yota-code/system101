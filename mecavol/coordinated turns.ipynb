{
 "cells": [
  {
   "cell_type": "markdown",
   "metadata": {},
   "source": [
    "## Coordinated Turn\n",
    "\n",
    "In coordinated turn, the lateral acceleration is cancelled (well, it is not exactly the case for helicopters, real coordination is about the cancelled air drift).\n",
    "\n",
    "One equation link the radius of the turn $R$, to the forward speed $V$, the gravity $g$, and the roll angle $\\varphi$:\n",
    "\n",
    "$$ R = \\frac{V^2}{g \\tan \\varphi} $$\n",
    "\n",
    "Another link the rate of turn $\\dot \\psi$, to the forward speed $V$, the gravity $g$, and the roll angle $\\varphi$:\n",
    "\n",
    "$$ \\dot \\psi = \\frac{g \\tan \\varphi}{V} $$\n",
    "\n",
    "The issue is that, in a rotating frame, the rotations induce some nasty side effects. For a speed defined as the derivative of the position :\n",
    "\n",
    "$$ v = \\frac{d \\vec p}{dt} $$\n",
    "\n",
    "For the inertial Frame indiced $i$ and a rotationnal frame indiced $r$, the speed in the inertial frame of reference is given by:\n",
    "\n",
    "$$ \\vec v_i = \\vec v_r + \\vec \\Omega \\wedge \\vec p_r $$\n",
    "\n",
    "And the acceleration in the initial frame of reference is given by:\n",
    "\n",
    "$$ \\vec a_i = \\vec a_r + 2 \\vec \\Omega \\wedge \\vec v_r + \\vec \\Omega \\wedge ( \\vec \\Omega \\wedge \\vec p_r ) + \\frac{d \\vec \\Omega}{dt} \\wedge \\vec p_r $$\n",
    "\n",
    "* [source 1](https://en.wikipedia.org/wiki/Rotating_reference_frame)\n",
    "* [source 2](https://phys.libretexts.org/Bookshelves/University_Physics/Book%3A_Mechanics_and_Relativity_(Idema)/07%3A_General_Rotational_Motion/7.02%3A_Rotating_Reference_Frames)\n",
    "\n",
    "* https://www.autonomousrobotslab.com/frame-rotations-and-representations.html"
   ]
  },
  {
   "cell_type": "code",
   "execution_count": null,
   "metadata": {},
   "outputs": [],
   "source": []
  }
 ],
 "metadata": {
  "kernelspec": {
   "display_name": "Python 3",
   "language": "python",
   "name": "python3"
  },
  "language_info": {
   "codemirror_mode": {
    "name": "ipython",
    "version": 3
   },
   "file_extension": ".py",
   "mimetype": "text/x-python",
   "name": "python",
   "nbconvert_exporter": "python",
   "pygments_lexer": "ipython3",
   "version": "3.8.5"
  }
 },
 "nbformat": 4,
 "nbformat_minor": 4
}
