{
 "cells": [
  {
   "cell_type": "code",
   "execution_count": 4,
   "id": "c3ba5249-91be-410f-af5a-8e4d32c725d6",
   "metadata": {},
   "outputs": [],
   "source": [
    "def rgrid(radius=4) :\n",
    "    for x in range(-radius, radius+1) :\n",
    "        for y in range(-radius, radius+1) :\n",
    "            if x**2 + y**2 <= radius**2 :\n",
    "                yield x, y"
   ]
  },
  {
   "cell_type": "code",
   "execution_count": 6,
   "id": "544640d7-2c6f-4e9f-bf08-31ee605e0f20",
   "metadata": {},
   "outputs": [
    {
     "name": "stdout",
     "output_type": "stream",
     "text": [
      "49\n",
      "10 [0, 1, 2, 4, 5, 8, 9, 10, 13, 16]\n"
     ]
    }
   ],
   "source": [
    "r_set = set()\n",
    "r_lst = list()\n",
    "for x, y in rgrid(4) :\n",
    "    r_set.add(x**2 + y**2)\n",
    "    r_lst.append((x, y))\n",
    "\n",
    "print(len(r_lst))\n",
    "print(len(r_set), sorted(r_set))"
   ]
  },
  {
   "cell_type": "code",
   "execution_count": null,
   "id": "8671d62d-0f02-475d-a25b-697de2af7c14",
   "metadata": {},
   "outputs": [],
   "source": []
  }
 ],
 "metadata": {
  "kernelspec": {
   "display_name": "Python 3 (ipykernel)",
   "language": "python",
   "name": "python3"
  },
  "language_info": {
   "codemirror_mode": {
    "name": "ipython",
    "version": 3
   },
   "file_extension": ".py",
   "mimetype": "text/x-python",
   "name": "python",
   "nbconvert_exporter": "python",
   "pygments_lexer": "ipython3",
   "version": "3.11.6"
  }
 },
 "nbformat": 4,
 "nbformat_minor": 5
}
