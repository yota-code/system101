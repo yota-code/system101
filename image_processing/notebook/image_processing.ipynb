{
 "cells": [
  {
   "cell_type": "markdown",
   "id": "6a35f0b8-c665-4ee0-a048-407444809222",
   "metadata": {},
   "source": [
    "Calculer la moyenne sur une zone rectangulaire est trivial.\n",
    "\n",
    "Commencer en amont par calculer une fois pour toutes l'intégrale de l'image.\n",
    "\n",
    "Suite à quoi la valeur moyenne d'une aire rectangulaire de rayon r autour du pixel (i, j) est données par P(i+r, j+r) - P(i-r-1, j+r) - P(i+r, j-r-1) + P(i-r-1, j-r-1)"
   ]
  },
  {
   "cell_type": "code",
   "execution_count": null,
   "id": "54d4d074-e7d1-4446-8d94-e13dbf1d3282",
   "metadata": {},
   "outputs": [],
   "source": []
  }
 ],
 "metadata": {
  "kernelspec": {
   "display_name": "Python 3 (ipykernel)",
   "language": "python",
   "name": "python3"
  },
  "language_info": {
   "codemirror_mode": {
    "name": "ipython",
    "version": 3
   },
   "file_extension": ".py",
   "mimetype": "text/x-python",
   "name": "python",
   "nbconvert_exporter": "python",
   "pygments_lexer": "ipython3",
   "version": "3.11.6"
  }
 },
 "nbformat": 4,
 "nbformat_minor": 5
}
